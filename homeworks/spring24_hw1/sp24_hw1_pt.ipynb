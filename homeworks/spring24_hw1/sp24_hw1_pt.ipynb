{
 "cells": [
  {
   "cell_type": "markdown",
   "metadata": {},
   "source": [
    "# CS/DS 549 Spring 2023 Programming and Model Training Assignment"
   ]
  },
  {
   "cell_type": "markdown",
   "metadata": {},
   "source": [
    "<a href=\"https://colab.research.google.com/github/BU-Spark/ml-549-course/blob/main/homeworks/spring24_hw1/sp24_hw1_pt.ipynb\" target=\"_blank\"><img src=\"https://colab.research.google.com/assets/colab-badge.png\" alt=\"Open In Colab\"/></a>"
   ]
  },
  {
   "cell_type": "markdown",
   "metadata": {},
   "source": [
    "## Introduction"
   ]
  },
  {
   "cell_type": "markdown",
   "metadata": {},
   "source": [
    "The goal of this assignment is to train an image classifier on the CIFAR10\n",
    "dataset. CIFAR10 is a \"toy\" dataset in that it only has 10 classes and image\n",
    "resolution of 32x32x3. There are 50K training images and 10K test images.\n",
    "\n",
    "Your task is to define a _neural network model_ and _training\n",
    "hyperparameters_ to reach a __minimum validation accuracy\n",
    "of 60%__.\n",
    "\n",
    "The code below is fully functional albeit a simple model with basic hyperparameters.\n",
    "Update the model and hyperparameters to get the validation accuracy above the\n",
    "minimum.\n",
    "\n",
    "The parts of the code you need to change are indicated by the delimiters:\n",
    "\n",
    "```python\n",
    "### BEGIN SOLUTION\n",
    "<your code>\n",
    "### END SOLUTION\n",
    "```\n",
    "\n",
    "Aspects you may want to experiment with are:\n",
    "1. Deeper and more complex models.\n",
    "2. Different training optimizers.\n",
    "3. Hyperparameters like batch_size and epochs.\n",
    "\n",
    "If you really want get more sophisticated, but not necessary, you can attempt\n",
    "1. pre-training on a larger dataset and transfer learning\n",
    "2. additional input image augmentations.\n",
    "\n",
    "The following are **prohibited**, however:\n",
    "1. Loading a predefined model.\n",
    "2. Using a pre-trained model.\n",
    "\n",
    "You can run this notebook locally on your computer, on SCC or on Google Colab,\n",
    "with the proper setup."
   ]
  },
  {
   "cell_type": "code",
   "execution_count": 1,
   "metadata": {},
   "outputs": [],
   "source": [
    "# The pip install command below is ensure install in Google Colab"
   ]
  },
  {
   "cell_type": "code",
   "execution_count": 2,
   "metadata": {},
   "outputs": [
    {
     "name": "stdout",
     "output_type": "stream",
     "text": [
      "Defaulting to user installation because normal site-packages is not writeable\n",
      "Requirement already satisfied: torchinfo in /usr4/cs505ws/srigor/.local/lib/python3.11/site-packages (1.8.0)\n",
      "Note: you may need to restart the kernel to use updated packages.\n"
     ]
    }
   ],
   "source": [
    "pip install torchinfo"
   ]
  },
  {
   "cell_type": "code",
   "execution_count": 3,
   "metadata": {},
   "outputs": [],
   "source": [
    "# Import necessary libraries\n",
    "import torch\n",
    "import torch.nn as nn\n",
    "import torch.nn.functional as F\n",
    "import torch.optim as optim\n",
    "from torch.utils.data import DataLoader\n",
    "from torchvision import datasets, transforms\n",
    "\n",
    "from torchinfo import summary\n",
    "\n",
    "import matplotlib.pyplot as plt"
   ]
  },
  {
   "cell_type": "markdown",
   "metadata": {},
   "source": [
    "## Load the Dataset"
   ]
  },
  {
   "cell_type": "code",
   "execution_count": 4,
   "metadata": {},
   "outputs": [
    {
     "name": "stdout",
     "output_type": "stream",
     "text": [
      "Files already downloaded and verified\n",
      "Files already downloaded and verified\n"
     ]
    }
   ],
   "source": [
    "# Load the CIFAR-10 dataset\n",
    "transform = transforms.Compose(\n",
    "    [transforms.ToTensor(),\n",
    "     transforms.Normalize((0.5, 0.5, 0.5), (0.5, 0.5, 0.5))])\n",
    "\n",
    "### BEGIN SOLUTION\n",
    "batch_size = 5\n",
    "### END SOLUTION\n",
    "\n",
    "trainset = datasets.CIFAR10(root='./data', train=True, download=True, transform=transform)\n",
    "trainloader = DataLoader(trainset, batch_size=batch_size, shuffle=True, num_workers=2)\n",
    "\n",
    "testset = datasets.CIFAR10(root='./data', train=False, download=True, transform=transform)\n",
    "testloader = DataLoader(testset, batch_size=batch_size, shuffle=False, num_workers=2)"
   ]
  },
  {
   "cell_type": "markdown",
   "metadata": {},
   "source": [
    "Let's look at some statistics on the training and test set."
   ]
  },
  {
   "cell_type": "code",
   "execution_count": 5,
   "metadata": {},
   "outputs": [
    {
     "name": "stdout",
     "output_type": "stream",
     "text": [
      "The size of the training set is 50000 images\n",
      "The size of the test set is 10000 images\n"
     ]
    }
   ],
   "source": [
    "print(f\"The size of the training set is {len(trainset)} images\")\n",
    "print(f\"The size of the test set is {len(testset)} images\")"
   ]
  },
  {
   "cell_type": "markdown",
   "metadata": {},
   "source": [
    "Let's look at the loaders."
   ]
  },
  {
   "cell_type": "code",
   "execution_count": 6,
   "metadata": {},
   "outputs": [
    {
     "name": "stdout",
     "output_type": "stream",
     "text": [
      "The size of trainloader is  10000\n",
      "The size of testloader is  2000\n"
     ]
    }
   ],
   "source": [
    "print(\"The size of trainloader is \", len(trainloader))\n",
    "print(\"The size of testloader is \", len(testloader))"
   ]
  },
  {
   "cell_type": "markdown",
   "metadata": {},
   "source": [
    "### Question: Why is trainloader and testloader smaller than trainset and testset?"
   ]
  },
  {
   "cell_type": "markdown",
   "metadata": {},
   "source": [
    "We set a number for the batch size, which indicates how many training samples should be used in the iteration. Initially, this number was set to 4, so that means that the loaders would only use a quarter of the original datasets."
   ]
  },
  {
   "cell_type": "markdown",
   "metadata": {},
   "source": [
    "## Define the Model"
   ]
  },
  {
   "cell_type": "code",
   "execution_count": 7,
   "metadata": {},
   "outputs": [],
   "source": [
    "# Define the model architecture\n",
    "class Net(nn.Module):\n",
    "    def __init__(self):\n",
    "        \"\"\"Initialize the neural network layers we want to use in our model's\n",
    "        forward pass.\"\"\"\n",
    "        super(Net, self).__init__()\n",
    "\n",
    "        ### BEGIN SOLUTION\n",
    "        self.conv1 = nn.Conv2d(3, 8, 3)\n",
    "        self.pool = nn.MaxPool2d(2, 2)\n",
    "        self.fc1 = nn.Linear(8 * 15 * 15, 120)\n",
    "        self.fc2 = nn.Linear(120, 10)    # we have to end with 10 outputs because we have 10 classes\n",
    "        ### END SOLUTION\n",
    "\n",
    "    def forward(self, x):\n",
    "        ### BEGIN SOLUTION\n",
    "        x = F.relu(self.conv1(x))\n",
    "        x = self.pool(x)\n",
    "        x = x.view(-1, 8 * 15 * 15)\n",
    "        x = F.relu(self.fc1(x))\n",
    "        x = self.fc2(x)\n",
    "        ### END SOLUTION\n",
    "        return x"
   ]
  },
  {
   "cell_type": "code",
   "execution_count": 8,
   "metadata": {},
   "outputs": [
    {
     "name": "stdout",
     "output_type": "stream",
     "text": [
      "Net(\n",
      "  (conv1): Conv2d(3, 8, kernel_size=(3, 3), stride=(1, 1))\n",
      "  (pool): MaxPool2d(kernel_size=2, stride=2, padding=0, dilation=1, ceil_mode=False)\n",
      "  (fc1): Linear(in_features=1800, out_features=120, bias=True)\n",
      "  (fc2): Linear(in_features=120, out_features=10, bias=True)\n",
      ")\n",
      "==========================================================================================\n",
      "Layer (type:depth-idx)                   Output Shape              Param #\n",
      "==========================================================================================\n",
      "Net                                      [5, 10]                   --\n",
      "├─Conv2d: 1-1                            [5, 8, 30, 30]            224\n",
      "├─MaxPool2d: 1-2                         [5, 8, 15, 15]            --\n",
      "├─Linear: 1-3                            [5, 120]                  216,120\n",
      "├─Linear: 1-4                            [5, 10]                   1,210\n",
      "==========================================================================================\n",
      "Total params: 217,554\n",
      "Trainable params: 217,554\n",
      "Non-trainable params: 0\n",
      "Total mult-adds (Units.MEGABYTES): 2.09\n",
      "==========================================================================================\n",
      "Input size (MB): 0.06\n",
      "Forward/backward pass size (MB): 0.29\n",
      "Params size (MB): 0.87\n",
      "Estimated Total Size (MB): 1.22\n",
      "==========================================================================================\n"
     ]
    }
   ],
   "source": [
    "# Initialize the model\n",
    "net = Net()\n",
    "print(net)\n",
    "\n",
    "print(summary(net, input_size=(batch_size, 3, 32, 32)))\n"
   ]
  },
  {
   "cell_type": "code",
   "execution_count": 9,
   "metadata": {},
   "outputs": [],
   "source": [
    "# Define a Loss function and optimizer\n",
    "criterion = nn.CrossEntropyLoss()\n",
    "\n",
    "### BEGIN SOLUTION\n",
    "optimizer = optim.SGD(net.parameters(), lr=0.0085)\n",
    "### END SOLUTION"
   ]
  },
  {
   "cell_type": "markdown",
   "metadata": {},
   "source": [
    "## Train the Model"
   ]
  },
  {
   "cell_type": "code",
   "execution_count": 10,
   "metadata": {},
   "outputs": [
    {
     "name": "stdout",
     "output_type": "stream",
     "text": [
      "[1,  1000] loss: 2.086\n",
      "[1,  2000] loss: 1.867\n",
      "[1,  3000] loss: 1.722\n",
      "[1,  4000] loss: 1.612\n",
      "[1,  5000] loss: 1.539\n",
      "[1,  6000] loss: 1.493\n",
      "[1,  7000] loss: 1.458\n",
      "[1,  8000] loss: 1.434\n",
      "[1,  9000] loss: 1.372\n",
      "[1, 10000] loss: 1.372\n",
      "Epoch 1 took 24.02816915512085 seconds\n",
      "[2,  1000] loss: 1.300\n",
      "[2,  2000] loss: 1.276\n",
      "[2,  3000] loss: 1.297\n",
      "[2,  4000] loss: 1.243\n",
      "[2,  5000] loss: 1.280\n",
      "[2,  6000] loss: 1.243\n",
      "[2,  7000] loss: 1.241\n",
      "[2,  8000] loss: 1.209\n",
      "[2,  9000] loss: 1.231\n",
      "[2, 10000] loss: 1.189\n",
      "Epoch 2 took 23.40440583229065 seconds\n",
      "[3,  1000] loss: 1.122\n",
      "[3,  2000] loss: 1.113\n",
      "[3,  3000] loss: 1.110\n",
      "[3,  4000] loss: 1.116\n",
      "[3,  5000] loss: 1.135\n",
      "[3,  6000] loss: 1.138\n",
      "[3,  7000] loss: 1.114\n",
      "[3,  8000] loss: 1.102\n",
      "[3,  9000] loss: 1.084\n",
      "[3, 10000] loss: 1.101\n",
      "Epoch 3 took 23.543331623077393 seconds\n",
      "[4,  1000] loss: 0.989\n",
      "[4,  2000] loss: 1.007\n",
      "[4,  3000] loss: 1.023\n",
      "[4,  4000] loss: 1.010\n",
      "[4,  5000] loss: 1.025\n",
      "[4,  6000] loss: 0.999\n",
      "[4,  7000] loss: 1.003\n",
      "[4,  8000] loss: 1.032\n",
      "[4,  9000] loss: 1.017\n",
      "[4, 10000] loss: 1.014\n",
      "Epoch 4 took 23.783058881759644 seconds\n",
      "[5,  1000] loss: 0.874\n",
      "[5,  2000] loss: 0.896\n",
      "[5,  3000] loss: 0.910\n",
      "[5,  4000] loss: 0.901\n",
      "[5,  5000] loss: 0.948\n",
      "[5,  6000] loss: 0.937\n",
      "[5,  7000] loss: 0.947\n",
      "[5,  8000] loss: 0.944\n",
      "[5,  9000] loss: 0.937\n",
      "[5, 10000] loss: 0.963\n",
      "Epoch 5 took 23.375062227249146 seconds\n",
      "[6,  1000] loss: 0.807\n",
      "[6,  2000] loss: 0.801\n",
      "[6,  3000] loss: 0.828\n",
      "[6,  4000] loss: 0.858\n",
      "[6,  5000] loss: 0.875\n",
      "[6,  6000] loss: 0.875\n",
      "[6,  7000] loss: 0.885\n",
      "[6,  8000] loss: 0.841\n",
      "[6,  9000] loss: 0.861\n",
      "[6, 10000] loss: 0.852\n",
      "Epoch 6 took 23.543486833572388 seconds\n",
      "Finished Training with training loss of  0.8524319913573563\n"
     ]
    }
   ],
   "source": [
    "import time\n",
    "\n",
    "# Initialize a list to hold the losses\n",
    "losses = []\n",
    "\n",
    "# Calculate number of batches to process to report 10 times per epoch\n",
    "len_trainloader = len(trainloader)\n",
    "report_every = len_trainloader // 10\n",
    "\n",
    "### BEGIN SOLUTION\n",
    "epochs = 6\n",
    "### END SOLUTION\n",
    "\n",
    "# Train the network\n",
    "for epoch in range(epochs):  # loop over the dataset multiple times\n",
    "\n",
    "    start_time = time.time()\n",
    "\n",
    "    running_loss = 0.0\n",
    "\n",
    "    for i, data in enumerate(trainloader, 0):\n",
    "        # get the inputs; data is a list of [inputs, labels]\n",
    "        inputs, labels = data\n",
    "\n",
    "        # zero the parameter gradients\n",
    "        optimizer.zero_grad()\n",
    "\n",
    "        # forward + backward + optimize\n",
    "        outputs = net(inputs)\n",
    "        loss = criterion(outputs, labels)\n",
    "        loss.backward()\n",
    "        optimizer.step()\n",
    "\n",
    "        # record the loss\n",
    "        # losses.append(loss.item())\n",
    "        \n",
    "        # print statistics\n",
    "        running_loss += loss.item()\n",
    "        if i % report_every == report_every - 1:\n",
    "            print('[%d, %5d] loss: %.3f' % (epoch + 1, i + 1, running_loss / report_every))\n",
    "\n",
    "            losses.append(running_loss / report_every)\n",
    "            running_loss = 0.0\n",
    "\n",
    "    end_time = time.time()\n",
    "    print('Epoch {} took {} seconds'.format(epoch+1, end_time - start_time))\n",
    "\n",
    "print('Finished Training with training loss of ', losses[-1])"
   ]
  },
  {
   "cell_type": "code",
   "execution_count": 11,
   "metadata": {},
   "outputs": [
    {
     "data": {
      "image/png": "[encoded data removed]",
      "text/plain": [
       "<Figure size 640x480 with 1 Axes>"
      ]
     },
     "metadata": {},
     "output_type": "display_data"
    }
   ],
   "source": [
    "# Plot the training loss\n",
    "plt.plot(losses)\n",
    "plt.title('Training Loss')\n",
    "plt.xlabel('Batch # / 2000')\n",
    "plt.ylabel('Loss')\n",
    "plt.show()"
   ]
  },
  {
   "cell_type": "code",
   "execution_count": 12,
   "metadata": {},
   "outputs": [
    {
     "name": "stdout",
     "output_type": "stream",
     "text": [
      "Accuracy of the network on the training images: 75 %\n",
      "Average training loss: 0.699\n"
     ]
    }
   ],
   "source": [
    "# Evaluate accuracy on the training data\n",
    "correct = 0\n",
    "total = 0\n",
    "train_loss = 0\n",
    "\n",
    "with torch.no_grad():\n",
    "    for data in trainloader:\n",
    "        images, labels = data\n",
    "        \n",
    "        outputs = net(images)\n",
    "        \n",
    "        loss = criterion(outputs, labels)\n",
    "        train_loss += loss.item()\n",
    "\n",
    "        _, predicted = torch.max(outputs.data, 1)\n",
    "        total += labels.size(0)\n",
    "        correct += (predicted == labels).sum().item()\n",
    "\n",
    "accuracy = correct / total * 100\n",
    "\n",
    "# Calculate average test loss\n",
    "avg_train_loss = train_loss / len(trainloader)\n",
    "\n",
    "print('Accuracy of the network on the training images: %d %%' % (accuracy))\n",
    "print('Average training loss: %.3f' % (avg_train_loss))"
   ]
  },
  {
   "cell_type": "markdown",
   "metadata": {},
   "source": [
    "## Evaluate the Model"
   ]
  },
  {
   "cell_type": "code",
   "execution_count": 13,
   "metadata": {},
   "outputs": [],
   "source": [
    "# We'll set the baseline accuracy we want for this exercise.\n",
    "baseline_accuracy = 60.0"
   ]
  },
  {
   "cell_type": "code",
   "execution_count": 14,
   "metadata": {},
   "outputs": [
    {
     "name": "stdout",
     "output_type": "stream",
     "text": [
      "Accuracy of the network on the 10000 test images: 61 %\n",
      "Average test loss: 1.123\n"
     ]
    }
   ],
   "source": [
    "# Evaluate the network on the test data\n",
    "correct = 0\n",
    "total = 0\n",
    "test_loss = 0\n",
    "\n",
    "with torch.no_grad():\n",
    "    for data in testloader:\n",
    "        images, labels = data\n",
    "        \n",
    "        outputs = net(images)\n",
    "        \n",
    "        loss = criterion(outputs, labels)\n",
    "        test_loss += loss.item()\n",
    "\n",
    "        _, predicted = torch.max(outputs.data, 1)\n",
    "        total += labels.size(0)\n",
    "        correct += (predicted == labels).sum().item()\n",
    "\n",
    "accuracy = correct / total * 100\n",
    "\n",
    "# Calculate average test loss\n",
    "avg_test_loss = test_loss / len(testloader)\n",
    "\n",
    "print('Accuracy of the network on the 10000 test images: %d %%' % (accuracy))\n",
    "print('Average test loss: %.3f' % (avg_test_loss))"
   ]
  },
  {
   "cell_type": "markdown",
   "metadata": {},
   "source": [
    "### Let's see how you did"
   ]
  },
  {
   "cell_type": "code",
   "execution_count": 15,
   "metadata": {},
   "outputs": [
    {
     "name": "stdout",
     "output_type": "stream",
     "text": [
      "And did you beat the baseline accuracy of  60.0 ?\n",
      "Yes!!! You beat the baseline accuracy!\n"
     ]
    }
   ],
   "source": [
    "print('And did you beat the baseline accuracy of ', baseline_accuracy, '?')\n",
    "\n",
    "if accuracy > baseline_accuracy:\n",
    "    print('Yes!!! You beat the baseline accuracy!')\n",
    "else:\n",
    "    print('Awww! Try again! You can do it!')\n",
    "\n",
    "# We put an assert here to raise an error if the accuracy is not greater than the baseline accuracy\n",
    "assert accuracy > baseline_accuracy, 'Accuracy did not beat baseline accuracy of {}'.format(baseline_accuracy)"
   ]
  },
  {
   "cell_type": "markdown",
   "metadata": {},
   "source": [
    "## Model Evaluation Questions"
   ]
  },
  {
   "cell_type": "markdown",
   "metadata": {},
   "source": [
    "### Question: What was the accuracy of the model as initially defined in the assginment?"
   ]
  },
  {
   "cell_type": "markdown",
   "metadata": {},
   "source": [
    "The accuracy of the model as initially defined in the assignment was 45%."
   ]
  },
  {
   "cell_type": "markdown",
   "metadata": {},
   "source": [
    "### Question: Try running the same model and training hyperparameters multiple times. Does the loss curve and final accuracy differ between runs? Why?"
   ]
  },
  {
   "cell_type": "markdown",
   "metadata": {},
   "source": [
    "The loss curves and final accuracies differ slightly when the same model is run with the same training hyperparameters. This is because the training and test sets in the initialization of the code is randomized/shuffled every time, so the loss curves and accuracies will change with the changes in the data."
   ]
  },
  {
   "cell_type": "markdown",
   "metadata": {},
   "source": [
    "## Record Your Experiments Here"
   ]
  },
  {
   "cell_type": "markdown",
   "metadata": {},
   "source": [
    "It is helpful if you track your experiments so you can see what you changed and how it impacted accuracy."
   ]
  },
  {
   "cell_type": "markdown",
   "metadata": {
    "jp-MarkdownHeadingCollapsed": true
   },
   "source": [
    "### Experiment Template (Copy and Edit)\n",
    "\n",
    "**Model Definition:**\n",
    "```python\n",
    "<model definition here if changed>\n",
    "```\n",
    "\n",
    "**Hyperparameters:**\n",
    "```python\n",
    "batch size: 3\n",
    "epochs: 5\n",
    "optimizer: no change\n",
    "learning rate: 0.001\n",
    "momentum: no change\n",
    "```\n",
    "Training Loss: 1.178   <br>\n",
    "Training Accuracy: 58%<br>\n",
    "\n",
    "Test Loss: 1.263   <br>\n",
    "**Test Accuracy: 54%**"
   ]
  },
  {
   "cell_type": "markdown",
   "metadata": {},
   "source": [
    "### Experiment Template (Copy and Edit)\n",
    "\n",
    "**Model Definition:**\n",
    "```python\n",
    "<model definition here if changed>\n",
    "```\n",
    "\n",
    "**Hyperparameters:**\n",
    "```python\n",
    "batch size: 3\n",
    "epochs: 5\n",
    "optimizer: no change\n",
    "learning rate: 0.01\n",
    "momentum: no change\n",
    "```\n",
    "Training Loss: 0.782   <br>\n",
    "Training Accuracy: 72%<br>\n",
    "\n",
    "Test Loss: 1.223   <br>\n",
    "**Test Accuracy: 59%**"
   ]
  },
  {
   "cell_type": "markdown",
   "metadata": {},
   "source": [
    "### Experiment Template (Copy and Edit)\n",
    "\n",
    "**Model Definition:**\n",
    "```python\n",
    "<model definition here if changed>\n",
    "```\n",
    "\n",
    "**Hyperparameters:**\n",
    "```python\n",
    "batch size: 3\n",
    "epochs: 7\n",
    "optimizer: no change\n",
    "learning rate: 0.01\n",
    "momentum: no change\n",
    "```\n",
    "Training Loss: 0.644   <br>\n",
    "Training Accuracy: 77%<br>\n",
    "\n",
    "Test Loss: 1.302   <br>\n",
    "**Test Accuracy: 58%**"
   ]
  },
  {
   "cell_type": "markdown",
   "metadata": {},
   "source": [
    "### Experiment Template (Copy and Edit)\n",
    "\n",
    "**Model Definition:**\n",
    "```python\n",
    "<model definition here if changed>\n",
    "```\n",
    "\n",
    "**Hyperparameters:**\n",
    "```python\n",
    "batch size: 3\n",
    "epochs: 6\n",
    "optimizer: no change\n",
    "learning rate: 0.05\n",
    "momentum: no change\n",
    "```\n",
    "Training Loss: 0.051   <br>\n",
    "Training Accuracy: 64%<br>\n",
    "\n",
    "Test Loss: 1.788   <br>\n",
    "**Test Accuracy: 47%**"
   ]
  },
  {
   "cell_type": "markdown",
   "metadata": {},
   "source": [
    "### Experiment Template (Copy and Edit)\n",
    "\n",
    "**Model Definition:**\n",
    "```python\n",
    "<model definition here if changed>\n",
    "```\n",
    "\n",
    "**Hyperparameters:**\n",
    "```python\n",
    "batch size: 3\n",
    "epochs: 6\n",
    "optimizer: no change\n",
    "learning rate: 0.007\n",
    "momentum: no change\n",
    "```\n",
    "Training Loss: 0.803   <br>\n",
    "Training Accuracy: 71%<br>\n",
    "\n",
    "Test Loss: 1.248   <br>\n",
    "**Test Accuracy: 58%**"
   ]
  },
  {
   "cell_type": "markdown",
   "metadata": {
    "jp-MarkdownHeadingCollapsed": true
   },
   "source": [
    "### Experiment Template (Copy and Edit)\n",
    "\n",
    "**Model Definition:**\n",
    "```python\n",
    "<model definition here if changed>\n",
    "```\n",
    "\n",
    "**Hyperparameters:**\n",
    "```python\n",
    "batch size: 3\n",
    "epochs: 7\n",
    "optimizer: no change\n",
    "learning rate: 0.012\n",
    "momentum: no change\n",
    "```\n",
    "Training Loss: 0.665   <br>\n",
    "Training Accuracy: 76%<br>\n",
    "\n",
    "Test Loss: 1.351   <br>\n",
    "**Test Accuracy: 57%**"
   ]
  },
  {
   "cell_type": "markdown",
   "metadata": {},
   "source": [
    "### Experiment Template (Copy and Edit)\n",
    "\n",
    "**Model Definition:**\n",
    "```python\n",
    "<model definition here if changed>\n",
    "```\n",
    "\n",
    "**Hyperparameters:**\n",
    "```python\n",
    "batch size: 2\n",
    "epochs: 6\n",
    "optimizer: no change\n",
    "learning rate: 0.01\n",
    "momentum: no change\n",
    "```\n",
    "Training Loss: 0.769   <br>\n",
    "Training Accuracy: 72%<br>\n",
    "\n",
    "Test Loss: 1.342   <br>\n",
    "**Test Accuracy: 56%**"
   ]
  },
  {
   "cell_type": "markdown",
   "metadata": {
    "jp-MarkdownHeadingCollapsed": true
   },
   "source": [
    "### Experiment Template (Copy and Edit)\n",
    "\n",
    "**Model Definition:**\n",
    "```python\n",
    "<model definition here if changed>\n",
    "```\n",
    "\n",
    "**Hyperparameters:**\n",
    "```python\n",
    "batch size: 2\n",
    "epochs: 8\n",
    "optimizer: no change\n",
    "learning rate: 0.01\n",
    "momentum: no change\n",
    "```\n",
    "Training Loss: 0.711   <br>\n",
    "Training Accuracy: 74%<br>\n",
    "\n",
    "Test Loss: 1.442   <br>\n",
    "**Test Accuracy: 56%**"
   ]
  },
  {
   "cell_type": "markdown",
   "metadata": {},
   "source": [
    "### Experiment Template (Copy and Edit)\n",
    "\n",
    "**Model Definition:**\n",
    "```python\n",
    "<model definition here if changed>\n",
    "```\n",
    "\n",
    "**Hyperparameters:**\n",
    "```python\n",
    "batch size: 4\n",
    "epochs: 8\n",
    "optimizer: no change\n",
    "learning rate: 0.01\n",
    "momentum: no change\n",
    "```\n",
    "Training Loss: 0.524   <br>\n",
    "Training Accuracy: 81%<br>\n",
    "\n",
    "Test Loss: 1.491   <br>\n",
    "**Test Accuracy: 58%**"
   ]
  },
  {
   "cell_type": "markdown",
   "metadata": {},
   "source": [
    "### Experiment Template (Copy and Edit)\n",
    "\n",
    "**Model Definition:**\n",
    "```python\n",
    "<model definition here if changed>\n",
    "```\n",
    "\n",
    "**Hyperparameters:**\n",
    "```python\n",
    "batch size: 4\n",
    "epochs: 6\n",
    "optimizer: no change\n",
    "learning rate: 0.01\n",
    "momentum: 0.9\n",
    "```\n",
    "Training Loss: 1.664   <br>\n",
    "Training Accuracy: 42%<br>\n",
    "\n",
    "Test Loss: 1.988   <br>\n",
    "**Test Accuracy: 33%**"
   ]
  },
  {
   "cell_type": "markdown",
   "metadata": {},
   "source": [
    "### Experiment Template (Copy and Edit)\n",
    "\n",
    "**Model Definition:**\n",
    "```python\n",
    "<model definition here if changed>\n",
    "```\n",
    "\n",
    "**Hyperparameters:**\n",
    "```python\n",
    "batch size: 4\n",
    "epochs: 8\n",
    "optimizer: no change\n",
    "learning rate: 0.01\n",
    "momentum: 0.001\n",
    "```\n",
    "Training Loss: 0.619   <br>\n",
    "Training Accuracy: 78%<br>\n",
    "\n",
    "Test Loss: 1.340   <br>\n",
    "**Test Accuracy: 58%**"
   ]
  },
  {
   "cell_type": "markdown",
   "metadata": {},
   "source": [
    "### Experiment Template (Copy and Edit)\n",
    "\n",
    "**Model Definition:**\n",
    "```python\n",
    "<model definition here if changed>\n",
    "```\n",
    "\n",
    "**Hyperparameters:**\n",
    "```python\n",
    "batch size: 3\n",
    "epochs: 8\n",
    "optimizer: no change\n",
    "learning rate: 0.01\n",
    "momentum: 0\n",
    "```\n",
    "Training Loss: 0.619   <br>\n",
    "Training Accuracy: 78%<br>\n",
    "\n",
    "Test Loss: 1.340   <br>\n",
    "**Test Accuracy: 58%**"
   ]
  },
  {
   "cell_type": "markdown",
   "metadata": {},
   "source": []
  }
 ],
 "metadata": {
  "kernelspec": {
   "display_name": "Python 3 (ipykernel)",
   "language": "python",
   "name": "python3"
  },
  "language_info": {
   "codemirror_mode": {
    "name": "ipython",
    "version": 3
   },
   "file_extension": ".py",
   "mimetype": "text/x-python",
   "name": "python",
   "nbconvert_exporter": "python",
   "pygments_lexer": "ipython3",
   "version": "3.11.6"
  }
 },
 "nbformat": 4,
 "nbformat_minor": 4
}
